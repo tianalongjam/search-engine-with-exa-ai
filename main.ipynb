{
 "cells": [
  {
   "cell_type": "code",
   "execution_count": 20,
   "id": "e60c00e2",
   "metadata": {},
   "outputs": [],
   "source": [
    "from exa_py import Exa\n",
    "import pandas as pd"
   ]
  },
  {
   "cell_type": "code",
   "execution_count": 21,
   "id": "09d4b960",
   "metadata": {},
   "outputs": [],
   "source": [
    "exa = Exa('a2e035a2-d6dd-4860-9202-8df13b04f2b6')\n",
    "\n",
    "df = pd.DataFrame()\n",
    "data_dict = {}"
   ]
  },
  {
   "cell_type": "code",
   "execution_count": null,
   "id": "9199b5fa",
   "metadata": {},
   "outputs": [],
   "source": [
    "query = \"AI Ethics\"\n",
    "\n",
    "response = exa.search(\n",
    "  query = \"AI Ethics\",\n",
    "  num_results=50,\n",
    "  type='keyword'\n",
    "  # include_domains=['https://www.tiktok.com'],\n",
    ")\n",
    "\n",
    "page= 10\n",
    "target = 50\n",
    "data_list = []\n",
    "\n",
    "for responses in range(0,target,page):\n",
    "      response = exa.search(\n",
    "        query,\n",
    "        num_results=page,\n",
    "        type='keyword'        \n",
    "        )\n",
    "\n",
    "      data_list.extend(response.results)\n"
   ]
  },
  {
   "cell_type": "code",
   "execution_count": null,
   "id": "0408febd",
   "metadata": {},
   "outputs": [],
   "source": [
    "for r in data_list:\n",
    "      new_row = pd.DataFrame([{\n",
    "            \"Title\": r.title,\n",
    "            \"URL\": r.url,\n",
    "            \"Published_data\": r.published_date,\n",
    "            \"Author\": r.author,\n",
    "            \"domain\": r.url.split(\"/\")[2] if \"://\" in r.url else r.url\n",
    "      }])\n",
    "\n",
    "      df = pd.concat([df, new_row], ignore_index=True)"
   ]
  },
  {
   "cell_type": "code",
   "execution_count": null,
   "id": "4afaba5b",
   "metadata": {},
   "outputs": [
    {
     "name": "stdout",
     "output_type": "stream",
     "text": [
      "domain\n",
      "www.unesco.org                6\n",
      "www.coursera.org              5\n",
      "www.ibm.com                   5\n",
      "en.wikipedia.org              5\n",
      "www.klcc.org                  5\n",
      "www.intelligence.gov          5\n",
      "www.apa.org                   5\n",
      "timesca.com                   4\n",
      "m.economictimes.com           4\n",
      "www.thomsonreuters.com        4\n",
      "www.blockchain-council.org    1\n",
      "hoodline.com                  1\n",
      "Name: count, dtype: int64\n"
     ]
    }
   ],
   "source": [
    "domain_counts = df[\"domain\"].value_counts()\n",
    "print(domain_counts)"
   ]
  },
  {
   "cell_type": "code",
   "execution_count": null,
   "id": "d6d96e2a",
   "metadata": {},
   "outputs": [
    {
     "data": {
      "text/plain": [
       "np.float64(0.12)"
      ]
     },
     "execution_count": 19,
     "metadata": {},
     "output_type": "execute_result"
    }
   ],
   "source": [
    "top_dom = domain_counts.max()/domain_counts.sum()\n",
    "top_dom"
   ]
  },
  {
   "cell_type": "markdown",
   "id": "d95b05a1",
   "metadata": {},
   "source": []
  },
  {
   "cell_type": "code",
   "execution_count": null,
   "id": "30f26540",
   "metadata": {},
   "outputs": [
    {
     "data": {
      "text/plain": [
       "pandas.core.series.Series"
      ]
     },
     "execution_count": 15,
     "metadata": {},
     "output_type": "execute_result"
    }
   ],
   "source": []
  },
  {
   "cell_type": "code",
   "execution_count": 14,
   "id": "51a1067c",
   "metadata": {},
   "outputs": [
    {
     "data": {
      "text/html": [
       "<div>\n",
       "<style scoped>\n",
       "    .dataframe tbody tr th:only-of-type {\n",
       "        vertical-align: middle;\n",
       "    }\n",
       "\n",
       "    .dataframe tbody tr th {\n",
       "        vertical-align: top;\n",
       "    }\n",
       "\n",
       "    .dataframe thead th {\n",
       "        text-align: right;\n",
       "    }\n",
       "</style>\n",
       "<table border=\"1\" class=\"dataframe\">\n",
       "  <thead>\n",
       "    <tr style=\"text-align: right;\">\n",
       "      <th></th>\n",
       "      <th>domain</th>\n",
       "      <th>Count</th>\n",
       "    </tr>\n",
       "  </thead>\n",
       "  <tbody>\n",
       "    <tr>\n",
       "      <th>0</th>\n",
       "      <td>en.wikipedia.org</td>\n",
       "      <td>5</td>\n",
       "    </tr>\n",
       "    <tr>\n",
       "      <th>1</th>\n",
       "      <td>hoodline.com</td>\n",
       "      <td>1</td>\n",
       "    </tr>\n",
       "    <tr>\n",
       "      <th>2</th>\n",
       "      <td>m.economictimes.com</td>\n",
       "      <td>4</td>\n",
       "    </tr>\n",
       "    <tr>\n",
       "      <th>3</th>\n",
       "      <td>timesca.com</td>\n",
       "      <td>4</td>\n",
       "    </tr>\n",
       "    <tr>\n",
       "      <th>4</th>\n",
       "      <td>www.apa.org</td>\n",
       "      <td>5</td>\n",
       "    </tr>\n",
       "    <tr>\n",
       "      <th>5</th>\n",
       "      <td>www.blockchain-council.org</td>\n",
       "      <td>1</td>\n",
       "    </tr>\n",
       "    <tr>\n",
       "      <th>6</th>\n",
       "      <td>www.coursera.org</td>\n",
       "      <td>5</td>\n",
       "    </tr>\n",
       "    <tr>\n",
       "      <th>7</th>\n",
       "      <td>www.ibm.com</td>\n",
       "      <td>5</td>\n",
       "    </tr>\n",
       "    <tr>\n",
       "      <th>8</th>\n",
       "      <td>www.intelligence.gov</td>\n",
       "      <td>5</td>\n",
       "    </tr>\n",
       "    <tr>\n",
       "      <th>9</th>\n",
       "      <td>www.klcc.org</td>\n",
       "      <td>5</td>\n",
       "    </tr>\n",
       "    <tr>\n",
       "      <th>10</th>\n",
       "      <td>www.thomsonreuters.com</td>\n",
       "      <td>4</td>\n",
       "    </tr>\n",
       "    <tr>\n",
       "      <th>11</th>\n",
       "      <td>www.unesco.org</td>\n",
       "      <td>6</td>\n",
       "    </tr>\n",
       "  </tbody>\n",
       "</table>\n",
       "</div>"
      ],
      "text/plain": [
       "                        domain  Count\n",
       "0             en.wikipedia.org      5\n",
       "1                 hoodline.com      1\n",
       "2          m.economictimes.com      4\n",
       "3                  timesca.com      4\n",
       "4                  www.apa.org      5\n",
       "5   www.blockchain-council.org      1\n",
       "6             www.coursera.org      5\n",
       "7                  www.ibm.com      5\n",
       "8         www.intelligence.gov      5\n",
       "9                 www.klcc.org      5\n",
       "10      www.thomsonreuters.com      4\n",
       "11              www.unesco.org      6"
      ]
     },
     "execution_count": 14,
     "metadata": {},
     "output_type": "execute_result"
    }
   ],
   "source": [
    "filtered_df"
   ]
  }
 ],
 "metadata": {
  "kernelspec": {
   "display_name": "Python 3",
   "language": "python",
   "name": "python3"
  },
  "language_info": {
   "codemirror_mode": {
    "name": "ipython",
    "version": 3
   },
   "file_extension": ".py",
   "mimetype": "text/x-python",
   "name": "python",
   "nbconvert_exporter": "python",
   "pygments_lexer": "ipython3",
   "version": "3.13.5"
  }
 },
 "nbformat": 4,
 "nbformat_minor": 5
}
